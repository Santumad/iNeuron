{
  "nbformat": 4,
  "nbformat_minor": 0,
  "metadata": {
    "colab": {
      "provenance": []
    },
    "kernelspec": {
      "name": "python3",
      "display_name": "Python 3"
    },
    "language_info": {
      "name": "python"
    }
  },
  "cells": [
    {
      "cell_type": "markdown",
      "source": [
        "1.What are the two values of the Boolean data type? How do you write them?\n",
        "# Answer -\n",
        "\n",
        "Python boolean type is one of the built-in data types provided by Python, which represents one of the two values \n",
        "\n",
        "i.e. True or False. \n",
        "\n",
        "Generally, it is used to represent the truth values of the expressions. \n",
        "\n",
        "For example, 1==1 is True whereas 2<1 is False. "
      ],
      "metadata": {
        "id": "mj4AeUOIsule"
      }
    },
    {
      "cell_type": "markdown",
      "source": [
        "2.What are the three different types of Boolean operators?\n",
        "# Answer -\n",
        "Boolean Operators -\n",
        "\n",
        "Boolean Operations are simple arithmetic of True and False values. These values can be manipulated by the use of boolean operators which include AND, Or, and NOT. Common boolean operations are –\n",
        "\n",
        "* or\n",
        "\n",
        "* and\n",
        "\n",
        "* not\n",
        "\n",
        "* == (equivalent)\n",
        "\n",
        "* != (not equivalent)"
      ],
      "metadata": {
        "id": "KPvXeHaytbEA"
      }
    },
    {
      "cell_type": "markdown",
      "source": [
        "3. Make a list of each Boolean operator's truth tables (i.e. every possible combination of Boolean values for the operator and what it evaluate ).\n",
        "## Answer -\n",
        "### Boolean OR Operator\n",
        "\n",
        "  The Boolean or operator returns True if any one of the inputs is True else returns False.\n",
        "\n",
        "  ![Screenshot_20221103_081319.png](data:image/png;base64,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)\n",
        "\n",
        "\n",
        "  ### Boolean And Operator\n",
        "   The Boolean and operator returns False if any one of the inputs is False else returns True.\n",
        "\n",
        " ![Screenshot_20221103_081620.png](data:image/png;base64,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)\n",
        "\n",
        " ### Boolean Not Operator\n",
        "  The Boolean Not operator only require one argument and returns the negation of the argument i.e. returns the True for False and False for True.\n",
        "  ![Screenshot_20221103_081932.png](data:image/png;base64,iVBORw0KGgoAAAANSUhEUgAAAM0AAACECAYAAAAz66/NAAAAAXNSR0IArs4c6QAAAARnQU1BAACxjwv8YQUAAAAJcEhZcwAAEnQAABJ0Ad5mH3gAAAdjSURBVHhe7d29bttIFIbhs9v4RggsAgFp1PkKBLiIO3cB1LlTY6hM4dJI486dgO3cRYUBX4E7NQGMwIBuxNXuDDlDUeKQ4pE5tES+D8B14p+sTJ2P8yPp6K/39/f/BEBjf7uPABoiNIASoQGUCA2gRGgAJUIDKBEaQInQAEqEBlAiNIASoQGUCA2gRGgAJUIDKBEaQInQAEqEBlAiNIASoQGUCA2gRGgAJUIDKBEaQOmw0Kzv5fzsTM7scX4va/dpnK71/Xl2f5rj+tl9suj5Ovt68IuHeJbrruqn5Xo9KDTrp0dZyVjGY/OX1aM8kZpeWfxqKxg11m/y2/0xtrbr9YDQrOXpcWU+fpUfP6bm40oeSU1vTKfmPl3cyn1v7tL261UfmvWTpLdheimTyaWkN+PxiSlaX1za+3Ql858djDZdiFCv6tBkQ529DRPz30S+MEXrmYlc2spa/DKrjqbWcn/u1gz5cV4erfy6yB6jeVpHsprLaOvnzNHiOidGvSpD44e6qaS3wdyIi6v0VjBF65HJzZ1ZASzktskcLQ3CSOZpAorMaDU6k/NPnefFqVddaIpDXfYZSS6uzAm24WWK1hvJhdjaWs1/1o82dlfq2yL94/juVd7f3/Pj9c5Whf03RpvduMnD5ntebTCN8Z28Fn4uPV5mprxbEKleVaHxQ934S+FXcieYKVqfJDJLF80LqdtIy+vBBOZltl3myewlD04nu3EBsepVERo/1I3l6qJ4gpii9ZJbNC9uq9YXVfWw4a/q8vvtE2Yh8eq1eWj8UDe+kt1zlPzzNf3IFK1PJnJjR4q9V+Sv8k84M7YwzFc/ScR6bRwaP9QFdzvcvJYpWr8ksx8Ntp9/y1vVfd7hA5i7YtZrw9D4oW6flfwhND1St/2cSHbBrp7m5GuKq4t2FvaNxa3XZqHxQ5257ix3dzr8sbRn9/MWfYgj336+LY8ZkzRR9mI+Km0t2+eyjdJ96Io1j5+6mZHge9vb0pHrtVFo8qGusHVXknzJFn2qB8Vw9JKZ2I201Spw5Z48bG0tF6dAWWBMySxfZGdjzXGjmLH7sx99cDN2vTYLzR93ArJHiML8Vt6ebUqcHj+ihNit5fwxlyL3+MtDTclMHjaP57Qpdr3yluiAUuPdMwAZQgMoERpAidAASoQGUCI0gBKhAZQIDaBEaAAlQgMoERp07vm68ORMf7TWuTO+hqEJteipOGhTe7KCxVw8TqiwY2KkQefss5t3X9dyShqGJpHZS+EXNYd/Svdu657W2u/g00yXhfuzeNQ9z39AGGkApeihyebJvkVpeW1Umib7t0UIro38zwdanjrleXn196IlxXazUc97eG29b6nVdk10N9I8hduXLr7t/6UbcWHzjUY2jqE9an+l72tTPulGy+e9sv1tTQ1FqomOQmNu5Nze8u1GB+11YDRXoO9ZQ+3SfNy9FHc1/86I05Atwu0rc3ZUXtymy+1zbg+3wN/b2rah519Z5ZfXW68SfsV0vJrobqRJT+zDVqOD1jowPv9Mr0B2U6K0Vk1m8m96VukAGkPaIyC0QTC5qSjmQ6zlrbKBWrZJVboJEWuis9AEmxyYG/9ik//BHbe1O6Olribu8J1R0EzV7lnl5llwTROeSh3G95bejIL7pvQxa6K7kSYi330E3UsX2cE1TcvSdxxYpv2lreIUMhSgmDXRi9Ak6Tv1VF8h/bHb2R4fZBbaty4vzdcaHzGRh/zf3wnQTnJi1sTxhmb1p7zOcfPUXb6hNd09u5U35RvfyU3V1C0aFyDfc22n6V/Mmji+0OSd5rffiat6a9NwbwthLjk8961DvjBLF7ia7eHDZG+fvm8dsyViTRzhSOPe4sEoLuKyhdtU7JsPl5mrjn8OU6hLfHpc0y63bb4wzQXuW/Fc165xsgCUvtcWd/758H0V3Ap37905XW7vzMasiaOcntltzNLz+NyW9aX7a0m6UIwxj0Y1O0XarC1y7nGb9p6Laf8/FfdtXfvbSDVBW1pAqRe7Z0CXCA2gRGgAJUIDKBEaQInQAEqEBlAiNIASoQGUCA2gdJShCXZ6VD3FFYhHFZpgMRcPCvtEhVsjBQ9eenGcI82pty1Fvx0UmsqXkFZ2XsBxo+2wBhsBgFI3oRlY29Ihyc6dP1/l81869z1oOxw9NENsWzpIA2o7fFBogq/VNkflyRlY29LhGVbb4egjzRDblg7SgNoOHxSaqt2zys2zgbUtHaIhtR2OPtKkC7falj4tOaK2pWjXsd1XcUMz0LalaNex3VdRQzPUtqVo4ITbDkcNzVDblqJGD9oOx52eDbRtKeqcftvhyBsBdoo0vLalqHfqbYdpSwsoRR5pgP4hNIASoQGUCA2gRGgAJUIDKBEaQInQAEqEBlAiNIASoQGUCA2gRGgAJUIDKBEaQInQAEqEBlAiNIASoQGUCA2gRGgAJUIDKBEaQInQAEqEBlAiNIASoQGUCA2gRGgAJUIDKBEaQInQAEqEBlAiNIASoQGUCA2gRGgAJUIDqIj8D2kndjqyS2XoAAAAAElFTkSuQmCC)\n",
        "  "
      ],
      "metadata": {
        "id": "GqRhondBufqL"
      }
    },
    {
      "cell_type": "markdown",
      "source": [
        "4. What are the values of the following expressions? (5 > 4) and (3 == 5) not (5 > 4) (5 > 4) or (3 == 5) not ((5 > 4) or (3 == 5)) (True and True) and (True == False) (not False) or (not True)\n",
        "##Answer -\n"
      ],
      "metadata": {
        "id": "0NtdqRYXZYCW"
      }
    },
    {
      "cell_type": "code",
      "source": [
        "print((5 > 4) and (3 == 5))\n",
        "print(not (5 > 4))\n",
        "print((5 > 4) or (3 == 5))\n",
        "print(not ((5 > 4) or (3 == 5)))\n",
        "print( (True and True) and (True == False) )\n",
        "print((not False) or (not True))"
      ],
      "metadata": {
        "colab": {
          "base_uri": "https://localhost:8080/"
        },
        "id": "uAW8LQcOvABa",
        "outputId": "c5964241-be0b-4699-f1f4-0da810152b61"
      },
      "execution_count": 1,
      "outputs": [
        {
          "output_type": "stream",
          "name": "stdout",
          "text": [
            "False\n",
            "False\n",
            "True\n",
            "False\n",
            "False\n",
            "True\n"
          ]
        }
      ]
    },
    {
      "cell_type": "markdown",
      "source": [
        "5. What are the six comparison operators?\n",
        "## Answer -\n",
        "* Less than (<)\n",
        "* Greater than (>)\n",
        "* Less than or equal to (<=)\n",
        "* Greater than or equal to (>=)\n",
        "* Equal to (==)\n",
        "* Not equal to (!=)\n",
        "\n"
      ],
      "metadata": {
        "id": "_5Q5MYyYv4FR"
      }
    },
    {
      "cell_type": "markdown",
      "source": [
        "6. How do you tell the difference between the equal to and assignment operators?Describe a condition and when you would use one.\n",
        "  ## Answer -\n",
        "  In Python and many other programming languages, a single equal mark is used to assign a value to a variable, whereas two consecutive equal marks is used to check whether 2 expressions give the same value .\n",
        "\n",
        "  = is an assignment operator\n",
        "\n",
        "  == is an equality operator\n",
        "\n",
        " \n",
        "  x=10\n",
        "\n",
        "  y=20\n",
        "\n",
        "  z=20\n",
        "\n",
        "  (x==y) is False because we assigned different values to x and y.\n",
        "\n",
        "  (y==z) is True because we assign equal values to y and z."
      ],
      "metadata": {
        "id": "uaOp9b-2whEL"
      }
    },
    {
      "cell_type": "markdown",
      "source": [
        "7. Identify the three blocks in this code: spam = 0 if spam == 10: print('eggs') if spam > 5: print('bacon') else: print('ham') print('spam') print('spam')"
      ],
      "metadata": {
        "id": "RxXhwvw_wq3k"
      }
    },
    {
      "cell_type": "code",
      "source": [
        "spam = 0 \n",
        "if spam == 10: \n",
        "    print('eggs') \n",
        "if spam > 5: \n",
        "    print('bacon') \n",
        "else: print('ham') \n",
        "print('spam') \n",
        "print('spam')"
      ],
      "metadata": {
        "colab": {
          "base_uri": "https://localhost:8080/"
        },
        "id": "xRnnS-VxzSBZ",
        "outputId": "b7cb6b56-8f87-4fa3-c2b6-f9512e65e660"
      },
      "execution_count": 2,
      "outputs": [
        {
          "output_type": "stream",
          "name": "stdout",
          "text": [
            "ham\n",
            "spam\n",
            "spam\n"
          ]
        }
      ]
    },
    {
      "cell_type": "markdown",
      "source": [
        "8. Write code that prints Hello if 1 is stored in spam, prints Howdy if 2 is stored in spam, and prints Greetings! if anything else is stored in spam."
      ],
      "metadata": {
        "id": "5eEQQstxwyqR"
      }
    },
    {
      "cell_type": "code",
      "source": [
        "spam = int(input())\n",
        "if spam == 1 :\n",
        "  print('Hello')\n",
        "elif spam == 2 :\n",
        "  print(\"Howdy\")\n",
        "else : \n",
        "  print('Greetings!')"
      ],
      "metadata": {
        "colab": {
          "base_uri": "https://localhost:8080/"
        },
        "id": "-OfvTKHvzrdM",
        "outputId": "b029cc89-8669-470a-abeb-1dd46441dba6"
      },
      "execution_count": 4,
      "outputs": [
        {
          "output_type": "stream",
          "name": "stdout",
          "text": [
            "2\n",
            "Howdy\n"
          ]
        }
      ]
    },
    {
      "cell_type": "markdown",
      "source": [
        "9. If your programme is stuck in an endless loop, what keys you’ll press?\n",
        "## Answer: Press the Control key together with the C key."
      ],
      "metadata": {
        "id": "QvmFi6xvw0FT"
      }
    },
    {
      "cell_type": "markdown",
      "source": [
        "10. How can you tell the difference between break and continue?\n",
        "## Answer - continue statement works similar to break statement. The only difference is that break statement terminates the loop whereas continue statement passes control to the conditional test"
      ],
      "metadata": {
        "id": "xvDdNU7iw5os"
      }
    },
    {
      "cell_type": "markdown",
      "source": [
        "11. In a for loop, what is the difference between range(10), range(0, 10), and range(0, 10, 1)?\n",
        "## Answer -\n",
        "range(10) - start 0th index and end 9 index\n",
        "\n",
        "  range(0, 10) - start 0th index and end 9 index\n",
        "\n",
        "  range(0,10,1) - start 0th index and end 9 index with jamp 1 element\n",
        "\n"
      ],
      "metadata": {
        "id": "G-Fd1igzxErM"
      }
    },
    {
      "cell_type": "markdown",
      "source": [
        "12. Write a short program that prints the numbers 1 to 10 using a for loop. Then write an equivalent program that prints the numbers 1 to 10 using a while loop."
      ],
      "metadata": {
        "id": "QlUdvLWAxI0Z"
      }
    },
    {
      "cell_type": "code",
      "source": [
        "for i in range(1,11):\n",
        "  print(i)"
      ],
      "metadata": {
        "colab": {
          "base_uri": "https://localhost:8080/"
        },
        "id": "Lx3PQH2a26Dd",
        "outputId": "997e34fd-7976-40a7-80cc-c444b58766b1"
      },
      "execution_count": 8,
      "outputs": [
        {
          "output_type": "stream",
          "name": "stdout",
          "text": [
            "1\n",
            "2\n",
            "3\n",
            "4\n",
            "5\n",
            "6\n",
            "7\n",
            "8\n",
            "9\n",
            "10\n"
          ]
        }
      ]
    },
    {
      "cell_type": "code",
      "source": [
        "n = 1\n",
        "while n < 11 :\n",
        "  print(n)\n",
        "  n+=1"
      ],
      "metadata": {
        "colab": {
          "base_uri": "https://localhost:8080/"
        },
        "id": "v21tCpZ_3Xoh",
        "outputId": "362e5621-1897-4cd5-b152-ffd635594bd2"
      },
      "execution_count": 10,
      "outputs": [
        {
          "output_type": "stream",
          "name": "stdout",
          "text": [
            "1\n",
            "2\n",
            "3\n",
            "4\n",
            "5\n",
            "6\n",
            "7\n",
            "8\n",
            "9\n",
            "10\n"
          ]
        }
      ]
    },
    {
      "cell_type": "markdown",
      "source": [
        "13. If you had a function named bacon() inside a module named spam, how would you call it after importing spam?\n",
        "\n",
        "## Answer -\n",
        "# Program save with spam.py name\n",
        "\n",
        "    def bacon() :\n",
        "      print(\"Hiii\")\n",
        "\n",
        "# This program is import spam.py python file\n",
        "\n",
        "    import spam\n",
        "\n",
        "    spam.bacon()"
      ],
      "metadata": {
        "id": "3g-OR-PExOWj"
      }
    }
  ]
}
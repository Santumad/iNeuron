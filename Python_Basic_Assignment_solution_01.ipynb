{
  "nbformat": 4,
  "nbformat_minor": 0,
  "metadata": {
    "colab": {
      "provenance": []
    },
    "kernelspec": {
      "name": "python3",
      "display_name": "Python 3"
    },
    "language_info": {
      "name": "python"
    }
  },
  "cells": [
    {
      "cell_type": "markdown",
      "source": [
        "1. In the below elements which of them are values or an expression? \n",
        "eg:- values can be integer or string and expressions will be mathematical operators.\n",
        "\n",
        "                     *, hello, -87.8, -, /, +, 6\n",
        "\n",
        "# Answer -->\n",
        "\n",
        "*   '*'       -> expressions\n",
        "*   'hello' -> string\n",
        "*   -87.8   -> integer\n",
        "*   '-'       -> expressions\n",
        "*   /       -> expressions\n",
        "*   6       -> integer"
      ],
      "metadata": {
        "id": "P8Z0DmmG1CH0"
      }
    },
    {
      "cell_type": "markdown",
      "source": [
        "2. What is the difference between string and variable?\n",
        "# Answer -->\n",
        "a string is a value representing text. a variable is a name that can refer to any value. quotes, double or single, (they mean the same, but can't be matched with each other) are used to create string literals, the quotes are there to indicate that the text that they enclose is not code, it is a value."
      ],
      "metadata": {
        "id": "TMFI15qA3tOl"
      }
    },
    {
      "cell_type": "markdown",
      "source": [
        "3. Describe three different data types.\n",
        "#Answer -->\n",
        "* int\n",
        "* string \n",
        "* float\n",
        "* double\n",
        "* list\n",
        "* tuple\n",
        "* dictionary\n",
        "* boolen\n",
        "* complex number \n",
        "\n"
      ],
      "metadata": {
        "id": "JqALcsVU4maC"
      }
    },
    {
      "cell_type": "markdown",
      "source": [
        "4. What is an expression made up of? What do all expressions do?\n",
        "#Answer -->\n",
        "Expressions consist of values (such as 2) and operators (such as + ), and they can always evaluate (that is, reduce) down to a single value. That means you can use expressions anywhere in Python code that you could also use a value.\n",
        "# Types of Expressions\n",
        "* Constant Expressions : Constant Expressions consists of only constant values. A constant value is one that doesn’t change.\n",
        "# Examples:\n",
        "```5, 10 + 5 / 6.0, 'x’```\n",
        "* Bitwise Expressions : Bitwise Expressions are used to manipulate data at bit level. They are basically used for testing or shifting bits.\n",
        "# Examples:\n",
        "```x << 3```\n",
        "shifts three bit position to left\n",
        "\n",
        "  ```y >> 1```\n",
        "\n",
        "  shifts one bit position to right.\n",
        "\n",
        "  Shift operators are often used for multiplication and division by powers of two.\n",
        "\n",
        "* Pointer Expressions : Pointer Expressions produce address values.\n",
        "# Examples:\n",
        "```&x, ptr, ptr++```\n",
        "* Logical Expressions : Logical Expressions combine two or more relational expressions and produces bool type results.\n",
        "* Integral Expressions : Integral Expressions are those which produce integer results after implementing all the automatic and explicit type conversions.\n",
        "# Examples:\n",
        "```x, x * y, x + int( 5.0)```\n",
        "\n",
        "* Floating Expressions : Float Expressions are which produce floating point results after implementing all the automatic and explicit type conversions.\n",
        "# Examples:\n",
        "```x + y, 10.75```\n",
        "* Relational Expressions : Relational Expressions yield results of type bool which takes a value true or false. When arithmetic expressions are used on either side of a relational operator, they will be evaluated first and then the results compared. Relational expressions are also known as Boolean expressions.\n",
        "# Examples:\n",
        "```x <= y, x + y > 2```\n"
      ],
      "metadata": {
        "id": "-HZawsf55pie"
      }
    },
    {
      "cell_type": "markdown",
      "source": [
        "5. This assignment statements, like spam = 10. What is the difference between an\n",
        "expression and a statement?\n",
        "# Answer -->\n",
        "\n",
        "# Expression\n",
        "\n",
        "An expression is a combination of operators and operands that is interpreted to produce some other value. In any programming language, an expression is evaluated as per the precedence of its operators. So that if there is more than one operator in an expression, their precedence decides which operation will be performed first. We have many different types of expressions in Python. Let’s discuss all types along with some exemplar codes :\n",
        "\n",
        "# Example \n",
        "\n",
        "Arithmetic Expressions: An arithmetic expression is a combination of numeric values, operators, and sometimes parenthesis. The result of this type of expression is also a numeric value. The operators used in these expressions are arithmetic operators like addition, subtraction, etc. Here are some arithmetic operators in Python:\n",
        "\n",
        "x = 40\n",
        "\n",
        "y = 12\n",
        "  \n",
        "add = x + y\n",
        "\n",
        "sub = x - y\n",
        "\n",
        "pro = x * y\n",
        "\n",
        "div = x / y\n",
        "  \n",
        "print(add)\n",
        "\n",
        "print(sub)\n",
        "\n",
        "print(pro)\n",
        "\n",
        "print(div)\n",
        "\n",
        "# Output \n",
        "\n",
        "52\n",
        "\n",
        "28\n",
        "\n",
        "480\n",
        "\n",
        "3.3333333333333335\n",
        "\n",
        "  # Statement\n",
        "\n",
        "  A statement is an instruction that a Python interpreter can execute. So, in simple words, we can say anything written in Python is a statement. Python statement ends with the token NEWLINE character. It means each line in a Python script is a statement.\n",
        "\n",
        "  # Example\n",
        "\n",
        "  For example, a = 10 is an assignment statement. where a is a variable name and 10 is its value. There are other kinds of statements such as if statement, for statement, while statement, etc., we will learn them in the following lessons.\n",
        "\n",
        "  # statement 1\n",
        "  print('Hello')\n",
        "\n",
        "  # statement 2\n",
        "  x = 20\n",
        "\n",
        "  # statement 3\n",
        "  print(x)"
      ],
      "metadata": {
        "id": "baQJSE3VTpYg"
      }
    },
    {
      "cell_type": "markdown",
      "source": [
        "6. After running the following code, what does the variable bacon contain?\n",
        "\n",
        "\n",
        "  bacon = 22\n",
        "\n",
        "  bacon + 1\n",
        "\n",
        "  Output -\n",
        "\n",
        "  22"
      ],
      "metadata": {
        "id": "lAJ8g2KshNdv"
      }
    },
    {
      "cell_type": "markdown",
      "source": [
        "7. What should the values of the following two terms be?\n",
        "\n",
        "  'spam' + 'spamspam'\n",
        "\n",
        "  'spam' * 3\n",
        "\n",
        "  output -\n",
        "\n",
        "  spamspamspam\n",
        "\n",
        "  spamspamspam"
      ],
      "metadata": {
        "id": "Ch8Acys7hcyK"
      }
    },
    {
      "cell_type": "markdown",
      "source": [
        "8. Why is eggs a valid variable name while 100 is invalid?\n",
        "# Answer -\n",
        "\n",
        "A variable can have a short name (like x and y) or a more descriptive name (age, carname, total_volume). Rules for Python variables:\n",
        "\n",
        "* A variable name must start with a letter or the underscore character\n",
        "* A variable name cannot start with a number\n",
        "* A variable name can only contain alpha-numeric characters and underscores (A-z, 0-9, and _ )\n",
        "* Variable names are case-sensitive (age, Age and AGE are three different variables)\n",
        "\n",
        "thats why eggs is valid variable name and 100 in invalid name\n"
      ],
      "metadata": {
        "id": "x-CVfKdPhNZc"
      }
    },
    {
      "cell_type": "markdown",
      "source": [
        "9. What three functions can be used to get the integer, floating-point number, or string version of a value?\n",
        "\n",
        "# Answer -\n",
        "\n",
        "The int () function accepts an argument representing a number and converts it to an integer. This argument can be a string, a float value, or an integer itself. The function considers the integer value or part before the decimal in the number and returns it.\n"
      ],
      "metadata": {
        "id": "JKBmmctOl3ID"
      }
    },
    {
      "cell_type": "markdown",
      "source": [
        "10. Why does this expression cause an error? How can you fix it?\n",
        "'I have eaten ' + 99 + ' burritos.'\n",
        "# Answer -\n",
        "'I have eaten'  + '99' +  'burritos.'\n"
      ],
      "metadata": {
        "id": "strBFowemZRO"
      }
    }
  ]
}
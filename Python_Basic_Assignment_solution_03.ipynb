{
  "nbformat": 4,
  "nbformat_minor": 0,
  "metadata": {
    "colab": {
      "provenance": []
    },
    "kernelspec": {
      "name": "python3",
      "display_name": "Python 3"
    },
    "language_info": {
      "name": "python"
    }
  },
  "cells": [
    {
      "cell_type": "markdown",
      "source": [
        "1. Why are functions advantageous to have in your program ?\n",
        "## Answer ->\n",
        "  Using functions, we can avoid rewriting the same logic/code again and again in a program. We can call Python functions multiple times in a program and anywhere in a program. We can track a large Python program easily when it is divided into multiple functions."
      ],
      "metadata": {
        "id": "3xk3YsaWTUaL"
      }
    },
    {
      "cell_type": "markdown",
      "source": [
        "2. When does the code in a function run: when it's specified or when it's called?\n",
        "## Answer ->\n",
        "  A function is a block of code that only runs when it is called. Python functions return a value using a return statement, if one is specified. A function can be called anywhere after the function has been declared."
      ],
      "metadata": {
        "id": "e0JVjAIkUCWf"
      }
    },
    {
      "cell_type": "markdown",
      "source": [
        "3. What statement creates a function?\n",
        "## Answer ->\n",
        "  Defining a function To create function def keyword is use in Python. Define a unique name for the function and in parenthesis, you can specify your parameters. Function block starts with colon (:) symbol."
      ],
      "metadata": {
        "id": "5egGLnDaWGw6"
      }
    },
    {
      "cell_type": "markdown",
      "source": [
        "4. What is the difference between a function and a function call?\n",
        "## Answer ->\n",
        "  A function is procedure to achieve a particular result while function call is using this function to achive that task. The opening and closing braces defines the scope of that function while the code between these braces is the actuall code/procedure to achieve the goal."
      ],
      "metadata": {
        "id": "v3KtxAMlWs5w"
      }
    },
    {
      "cell_type": "markdown",
      "source": [
        "5. How many global scopes are there in a Python program? How many local scopes?\n",
        "## Answer -> \n",
        "  In Python, there are two primary variable scopes:\n",
        "\n",
        "  * Local variable in Python :-   The variable defined inside the function is called the local variable. We can access the local variable only inside the function.\n",
        "\n",
        "  * Global variable in Python :- The Variables created outside the function are called global variables. Anyone can access the global variable, both inside and outside of a function."
      ],
      "metadata": {
        "id": "2LgTg9fmXPsQ"
      }
    },
    {
      "cell_type": "markdown",
      "source": [
        "6. What happens to variables in a local scope when the function call returns?\n",
        "## Answer ->\n",
        "  By default, the assignment statement creates variables in the local scope. So the assignment inside the function does not modify the global variable a – it creates a new local variable called a, and assigns the value 3 to that variable."
      ],
      "metadata": {
        "id": "hzT8TViDY1ew"
      }
    },
    {
      "cell_type": "markdown",
      "source": [
        "7. What is the concept of a return value? Is it possible to have a return value in an expression?\n",
        "## Answer ->\n",
        "  The specific value returned from a function is called the return value. When the return statement is executed, the function exits immediately, and the return value is copied from the function back to the caller. This process is called return by value.\n",
        "    \n",
        "    yes it is possible to return value expression."
      ],
      "metadata": {
        "id": "88xZaCdIZdy5"
      }
    },
    {
      "cell_type": "markdown",
      "source": [
        "8. If a function does not have a return statement, what is the return value of a call to that function?\n",
        "## Answer ->\n",
        "  If a function doesn't specify a return value, it returns None. In an if/then conditional statement, None evaluates to False. So in theory you could check the return value of this function for success/failure."
      ],
      "metadata": {
        "id": "GPD1SFUKabCH"
      }
    },
    {
      "cell_type": "markdown",
      "source": [
        "9. How do you make a function variable refer to the global variable?\n",
        "## Answer ->\n",
        "  If you want to refer to a global variable in a function, you can use the global keyword to declare which variables are global."
      ],
      "metadata": {
        "id": "N_Gh0WgYawEQ"
      }
    },
    {
      "cell_type": "markdown",
      "source": [
        "10. What is the data type of None?\n",
        "## Answer -> \n",
        "  * None keyword is an object and is a data type of none type class.\n",
        "  * None datatype doesn’t contain any value.\n",
        "  * None keyword is used to define a null variable or object.\n",
        "  * None keyword is immutable."
      ],
      "metadata": {
        "id": "eTyU36vGbIco"
      }
    },
    {
      "cell_type": "markdown",
      "source": [
        "11. What does the sentence import areallyourpetsnamederic do?\n",
        "##Answer ->\n",
        "  That import statement imports a module named areallyourpetsnamederic. This isn't a real Python module, by the way."
      ],
      "metadata": {
        "id": "8qJtRpdxbnYp"
      }
    },
    {
      "cell_type": "markdown",
      "source": [
        "12. If you had a bacon() feature in a spam module, what would you call it after importing spam?\n",
        "## Answer ->\n",
        " This function can be called with spam.bacon()."
      ],
      "metadata": {
        "id": "jr6Twlizc3fY"
      }
    },
    {
      "cell_type": "markdown",
      "source": [
        "13. What can you do to save a programme from crashing if it encounters an error?\n",
        "## Answer -> \n",
        "  In Python, we use the try and except statements to handle exceptions. Whenever the code breaks down, an exception is thrown without crashing the program. Let's modify the add number program to include the try and except statements."
      ],
      "metadata": {
        "id": "dlJ-Cn_BgZJ2"
      }
    },
    {
      "cell_type": "markdown",
      "source": [
        "14. What is the purpose of the try clause? What is the purpose of the except clause?\n",
        "## Answer -> \n",
        "  Try and Except statement is used to handle these errors within our code in Python. The try block is used to check some code for errors i.e the code inside the try block will execute when there is no error in the program. Whereas the code inside the except block will execute whenever the program encounters some error in the preceding try block."
      ],
      "metadata": {
        "id": "6qFGAYckgxqs"
      }
    }
  ]
}